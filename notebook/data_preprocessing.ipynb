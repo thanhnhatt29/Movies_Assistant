{
 "cells": [
  {
   "cell_type": "code",
   "execution_count": 21,
   "metadata": {},
   "outputs": [],
   "source": [
    "import pandas as pd\n",
    "import numpy as np\n",
    "import json"
   ]
  },
  {
   "cell_type": "code",
   "execution_count": 22,
   "metadata": {},
   "outputs": [],
   "source": [
    "df = pd.read_csv('../data/movies_2024-09-10.csv', keep_default_na=False)"
   ]
  },
  {
   "cell_type": "code",
   "execution_count": 23,
   "metadata": {},
   "outputs": [],
   "source": [
    "drop_col = ['recommendations', 'backdrop_path', 'poster_path']\n",
    "df.drop(drop_col, axis=1, inplace=True)"
   ]
  },
  {
   "cell_type": "code",
   "execution_count": 24,
   "metadata": {},
   "outputs": [],
   "source": [
    "# df.release_date.replace('', '1970-01-01', inplace=True)"
   ]
  },
  {
   "cell_type": "code",
   "execution_count": 25,
   "metadata": {},
   "outputs": [
    {
     "data": {
      "text/plain": [
       "id                        int64\n",
       "title                    object\n",
       "genres                   object\n",
       "original_language        object\n",
       "overview                 object\n",
       "popularity              float64\n",
       "production_companies     object\n",
       "release_date             object\n",
       "budget                  float64\n",
       "revenue                 float64\n",
       "runtime                  object\n",
       "status                   object\n",
       "tagline                  object\n",
       "vote_average            float64\n",
       "vote_count              float64\n",
       "credits                  object\n",
       "keywords                 object\n",
       "dtype: object"
      ]
     },
     "execution_count": 25,
     "metadata": {},
     "output_type": "execute_result"
    }
   ],
   "source": [
    "df.dtypes"
   ]
  },
  {
   "cell_type": "code",
   "execution_count": 26,
   "metadata": {},
   "outputs": [
    {
     "name": "stderr",
     "output_type": "stream",
     "text": [
      "C:\\Users\\MSI\\AppData\\Local\\Temp\\ipykernel_19116\\2298653117.py:2: FutureWarning: A value is trying to be set on a copy of a DataFrame or Series through chained assignment using an inplace method.\n",
      "The behavior will change in pandas 3.0. This inplace method will never work because the intermediate object on which we are setting values always behaves as a copy.\n",
      "\n",
      "For example, when doing 'df[col].method(value, inplace=True)', try using 'df.method({col: value}, inplace=True)' or df[col] = df[col].method(value) instead, to perform the operation inplace on the original object.\n",
      "\n",
      "\n",
      "  df['runtime'].fillna(0, inplace=True)\n"
     ]
    }
   ],
   "source": [
    "df['runtime'] = pd.to_numeric(df['runtime'], errors='coerce')\n",
    "df['runtime'].fillna(0, inplace=True)"
   ]
  },
  {
   "cell_type": "code",
   "execution_count": 27,
   "metadata": {},
   "outputs": [
    {
     "name": "stderr",
     "output_type": "stream",
     "text": [
      "C:\\Users\\MSI\\AppData\\Local\\Temp\\ipykernel_19116\\2529600147.py:3: SettingWithCopyWarning: \n",
      "A value is trying to be set on a copy of a slice from a DataFrame\n",
      "\n",
      "See the caveats in the documentation: https://pandas.pydata.org/pandas-docs/stable/user_guide/indexing.html#returning-a-view-versus-a-copy\n",
      "  df[int_cols].fillna(0, inplace=True)\n"
     ]
    }
   ],
   "source": [
    "int_cols = ['budget', 'revenue', 'runtime', 'vote_count']\n",
    "df[int_cols] = df[int_cols].astype(int)\n",
    "df[int_cols].fillna(0, inplace=True)"
   ]
  },
  {
   "cell_type": "code",
   "execution_count": 28,
   "metadata": {},
   "outputs": [
    {
     "name": "stderr",
     "output_type": "stream",
     "text": [
      "C:\\Users\\MSI\\AppData\\Local\\Temp\\ipykernel_19116\\3466808480.py:4: FutureWarning: A value is trying to be set on a copy of a DataFrame or Series through chained assignment using an inplace method.\n",
      "The behavior will change in pandas 3.0. This inplace method will never work because the intermediate object on which we are setting values always behaves as a copy.\n",
      "\n",
      "For example, when doing 'df[col].method(value, inplace=True)', try using 'df.method({col: value}, inplace=True)' or df[col] = df[col].method(value) instead, to perform the operation inplace on the original object.\n",
      "\n",
      "\n",
      "  df['original_language'].replace(language_dict, inplace=True)\n"
     ]
    }
   ],
   "source": [
    "with open('../data/language_dict.json', 'r') as f:\n",
    "    language_dict = json.load(f)\n",
    "\n",
    "df['original_language'].replace(language_dict, inplace=True)"
   ]
  },
  {
   "cell_type": "code",
   "execution_count": 29,
   "metadata": {},
   "outputs": [
    {
     "data": {
      "text/html": [
       "<div>\n",
       "<style scoped>\n",
       "    .dataframe tbody tr th:only-of-type {\n",
       "        vertical-align: middle;\n",
       "    }\n",
       "\n",
       "    .dataframe tbody tr th {\n",
       "        vertical-align: top;\n",
       "    }\n",
       "\n",
       "    .dataframe thead th {\n",
       "        text-align: right;\n",
       "    }\n",
       "</style>\n",
       "<table border=\"1\" class=\"dataframe\">\n",
       "  <thead>\n",
       "    <tr style=\"text-align: right;\">\n",
       "      <th></th>\n",
       "      <th>id</th>\n",
       "      <th>title</th>\n",
       "      <th>genres</th>\n",
       "      <th>original_language</th>\n",
       "      <th>overview</th>\n",
       "      <th>popularity</th>\n",
       "      <th>production_companies</th>\n",
       "      <th>release_date</th>\n",
       "      <th>budget</th>\n",
       "      <th>revenue</th>\n",
       "      <th>runtime</th>\n",
       "      <th>status</th>\n",
       "      <th>tagline</th>\n",
       "      <th>vote_average</th>\n",
       "      <th>vote_count</th>\n",
       "      <th>credits</th>\n",
       "      <th>keywords</th>\n",
       "    </tr>\n",
       "  </thead>\n",
       "  <tbody>\n",
       "    <tr>\n",
       "      <th>379435</th>\n",
       "      <td>738912</td>\n",
       "      <td>Documentary film of dash akol</td>\n",
       "      <td></td>\n",
       "      <td>Persian</td>\n",
       "      <td>It is the first work of Kamran Heydari that ex...</td>\n",
       "      <td>0.600</td>\n",
       "      <td></td>\n",
       "      <td></td>\n",
       "      <td>0</td>\n",
       "      <td>0</td>\n",
       "      <td>19</td>\n",
       "      <td>Released</td>\n",
       "      <td></td>\n",
       "      <td>0.0</td>\n",
       "      <td>0</td>\n",
       "      <td></td>\n",
       "      <td></td>\n",
       "    </tr>\n",
       "    <tr>\n",
       "      <th>409712</th>\n",
       "      <td>928222</td>\n",
       "      <td>The Book Peddler</td>\n",
       "      <td></td>\n",
       "      <td>French</td>\n",
       "      <td>Hervé runs the Librairie Aléatoire in Amiens. ...</td>\n",
       "      <td>0.600</td>\n",
       "      <td></td>\n",
       "      <td>2022-01-13</td>\n",
       "      <td>0</td>\n",
       "      <td>0</td>\n",
       "      <td>52</td>\n",
       "      <td>Released</td>\n",
       "      <td></td>\n",
       "      <td>0.0</td>\n",
       "      <td>0</td>\n",
       "      <td>Hervé Jézéquel</td>\n",
       "      <td></td>\n",
       "    </tr>\n",
       "    <tr>\n",
       "      <th>118370</th>\n",
       "      <td>120881</td>\n",
       "      <td>Documenting the Grey Man</td>\n",
       "      <td>Horror</td>\n",
       "      <td>English</td>\n",
       "      <td>A ghost hunting expedition goes horribly wrong...</td>\n",
       "      <td>1.648</td>\n",
       "      <td></td>\n",
       "      <td>2011-01-31</td>\n",
       "      <td>0</td>\n",
       "      <td>0</td>\n",
       "      <td>73</td>\n",
       "      <td>Released</td>\n",
       "      <td></td>\n",
       "      <td>2.0</td>\n",
       "      <td>4</td>\n",
       "      <td>Patrick Hussion-Kelly Coulter-Jillian Walzer-W...</td>\n",
       "      <td></td>\n",
       "    </tr>\n",
       "    <tr>\n",
       "      <th>209725</th>\n",
       "      <td>427370</td>\n",
       "      <td>A Story Worth Living</td>\n",
       "      <td>Documentary</td>\n",
       "      <td>English</td>\n",
       "      <td>Six novice riders-father sons and friends-take...</td>\n",
       "      <td>1.098</td>\n",
       "      <td></td>\n",
       "      <td>2016-10-25</td>\n",
       "      <td>0</td>\n",
       "      <td>0</td>\n",
       "      <td>84</td>\n",
       "      <td>Released</td>\n",
       "      <td></td>\n",
       "      <td>0.0</td>\n",
       "      <td>0</td>\n",
       "      <td>Jon Dale-Dan B. Allender-Blaine Eldredge-John ...</td>\n",
       "      <td>motorcycle-journey</td>\n",
       "    </tr>\n",
       "    <tr>\n",
       "      <th>112164</th>\n",
       "      <td>431111</td>\n",
       "      <td>King's Gambit</td>\n",
       "      <td>Fantasy-Drama-Action-Adventure</td>\n",
       "      <td>English</td>\n",
       "      <td>King's Gambit is an independent live-action fe...</td>\n",
       "      <td>1.748</td>\n",
       "      <td></td>\n",
       "      <td>2018-01-01</td>\n",
       "      <td>0</td>\n",
       "      <td>3</td>\n",
       "      <td>0</td>\n",
       "      <td>Released</td>\n",
       "      <td>A new herald arises</td>\n",
       "      <td>10.0</td>\n",
       "      <td>1</td>\n",
       "      <td>Blake Webb-Rebecca Galarza-Reggie Peters-Wade ...</td>\n",
       "      <td></td>\n",
       "    </tr>\n",
       "  </tbody>\n",
       "</table>\n",
       "</div>"
      ],
      "text/plain": [
       "            id                          title                          genres  \\\n",
       "379435  738912  Documentary film of dash akol                                   \n",
       "409712  928222               The Book Peddler                                   \n",
       "118370  120881       Documenting the Grey Man                          Horror   \n",
       "209725  427370           A Story Worth Living                     Documentary   \n",
       "112164  431111                  King's Gambit  Fantasy-Drama-Action-Adventure   \n",
       "\n",
       "       original_language                                           overview  \\\n",
       "379435           Persian  It is the first work of Kamran Heydari that ex...   \n",
       "409712            French  Hervé runs the Librairie Aléatoire in Amiens. ...   \n",
       "118370           English  A ghost hunting expedition goes horribly wrong...   \n",
       "209725           English  Six novice riders-father sons and friends-take...   \n",
       "112164           English  King's Gambit is an independent live-action fe...   \n",
       "\n",
       "        popularity production_companies release_date  budget  revenue  \\\n",
       "379435       0.600                                         0        0   \n",
       "409712       0.600                        2022-01-13       0        0   \n",
       "118370       1.648                        2011-01-31       0        0   \n",
       "209725       1.098                        2016-10-25       0        0   \n",
       "112164       1.748                        2018-01-01       0        3   \n",
       "\n",
       "        runtime    status              tagline  vote_average  vote_count  \\\n",
       "379435       19  Released                                0.0           0   \n",
       "409712       52  Released                                0.0           0   \n",
       "118370       73  Released                                2.0           4   \n",
       "209725       84  Released                                0.0           0   \n",
       "112164        0  Released  A new herald arises          10.0           1   \n",
       "\n",
       "                                                  credits            keywords  \n",
       "379435                                                                         \n",
       "409712                                     Hervé Jézéquel                      \n",
       "118370  Patrick Hussion-Kelly Coulter-Jillian Walzer-W...                      \n",
       "209725  Jon Dale-Dan B. Allender-Blaine Eldredge-John ...  motorcycle-journey  \n",
       "112164  Blake Webb-Rebecca Galarza-Reggie Peters-Wade ...                      "
      ]
     },
     "execution_count": 29,
     "metadata": {},
     "output_type": "execute_result"
    }
   ],
   "source": [
    "df.sample(5)"
   ]
  },
  {
   "cell_type": "code",
   "execution_count": 30,
   "metadata": {},
   "outputs": [],
   "source": [
    "df.to_csv('../data/movies_clean.csv', index=False)"
   ]
  },
  {
   "cell_type": "code",
   "execution_count": null,
   "metadata": {},
   "outputs": [],
   "source": []
  }
 ],
 "metadata": {
  "kernelspec": {
   "display_name": "Python 3",
   "language": "python",
   "name": "python3"
  },
  "language_info": {
   "codemirror_mode": {
    "name": "ipython",
    "version": 3
   },
   "file_extension": ".py",
   "mimetype": "text/x-python",
   "name": "python",
   "nbconvert_exporter": "python",
   "pygments_lexer": "ipython3",
   "version": "3.11.9"
  }
 },
 "nbformat": 4,
 "nbformat_minor": 2
}

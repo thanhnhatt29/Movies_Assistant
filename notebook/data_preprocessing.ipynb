{
 "cells": [
  {
   "cell_type": "code",
   "execution_count": 9,
   "metadata": {},
   "outputs": [],
   "source": [
    "import pandas as pd\n",
    "import numpy as np"
   ]
  },
  {
   "cell_type": "code",
   "execution_count": 10,
   "metadata": {},
   "outputs": [],
   "source": [
    "df = pd.read_csv('../data/movies_2024-09-10.csv', keep_default_na=False)"
   ]
  },
  {
   "cell_type": "code",
   "execution_count": 11,
   "metadata": {},
   "outputs": [],
   "source": [
    "drop_col = ['recommendations', 'backdrop_path', 'poster_path']\n",
    "df.drop(drop_col, axis=1, inplace=True)"
   ]
  },
  {
   "cell_type": "code",
   "execution_count": 12,
   "metadata": {},
   "outputs": [
    {
     "name": "stderr",
     "output_type": "stream",
     "text": [
      "C:\\Users\\MSI\\AppData\\Local\\Temp\\ipykernel_11792\\3127265549.py:1: FutureWarning: A value is trying to be set on a copy of a DataFrame or Series through chained assignment using an inplace method.\n",
      "The behavior will change in pandas 3.0. This inplace method will never work because the intermediate object on which we are setting values always behaves as a copy.\n",
      "\n",
      "For example, when doing 'df[col].method(value, inplace=True)', try using 'df.method({col: value}, inplace=True)' or df[col] = df[col].method(value) instead, to perform the operation inplace on the original object.\n",
      "\n",
      "\n",
      "  df.release_date.replace('', '1970-01-01', inplace=True)\n"
     ]
    }
   ],
   "source": [
    "df.release_date.replace('', '1970-01-01', inplace=True)"
   ]
  },
  {
   "cell_type": "code",
   "execution_count": 13,
   "metadata": {},
   "outputs": [
    {
     "data": {
      "text/plain": [
       "id                        int64\n",
       "title                    object\n",
       "genres                   object\n",
       "original_language        object\n",
       "overview                 object\n",
       "popularity              float64\n",
       "production_companies     object\n",
       "release_date             object\n",
       "budget                  float64\n",
       "revenue                 float64\n",
       "runtime                  object\n",
       "status                   object\n",
       "tagline                  object\n",
       "vote_average            float64\n",
       "vote_count              float64\n",
       "credits                  object\n",
       "keywords                 object\n",
       "dtype: object"
      ]
     },
     "execution_count": 13,
     "metadata": {},
     "output_type": "execute_result"
    }
   ],
   "source": [
    "df.dtypes"
   ]
  },
  {
   "cell_type": "code",
   "execution_count": 14,
   "metadata": {},
   "outputs": [
    {
     "name": "stderr",
     "output_type": "stream",
     "text": [
      "C:\\Users\\MSI\\AppData\\Local\\Temp\\ipykernel_11792\\2298653117.py:2: FutureWarning: A value is trying to be set on a copy of a DataFrame or Series through chained assignment using an inplace method.\n",
      "The behavior will change in pandas 3.0. This inplace method will never work because the intermediate object on which we are setting values always behaves as a copy.\n",
      "\n",
      "For example, when doing 'df[col].method(value, inplace=True)', try using 'df.method({col: value}, inplace=True)' or df[col] = df[col].method(value) instead, to perform the operation inplace on the original object.\n",
      "\n",
      "\n",
      "  df['runtime'].fillna(0, inplace=True)\n"
     ]
    }
   ],
   "source": [
    "df['runtime'] = pd.to_numeric(df['runtime'], errors='coerce')\n",
    "df['runtime'].fillna(0, inplace=True)"
   ]
  },
  {
   "cell_type": "code",
   "execution_count": 15,
   "metadata": {},
   "outputs": [
    {
     "name": "stderr",
     "output_type": "stream",
     "text": [
      "C:\\Users\\MSI\\AppData\\Local\\Temp\\ipykernel_11792\\2529600147.py:3: SettingWithCopyWarning: \n",
      "A value is trying to be set on a copy of a slice from a DataFrame\n",
      "\n",
      "See the caveats in the documentation: https://pandas.pydata.org/pandas-docs/stable/user_guide/indexing.html#returning-a-view-versus-a-copy\n",
      "  df[int_cols].fillna(0, inplace=True)\n"
     ]
    }
   ],
   "source": [
    "int_cols = ['budget', 'revenue', 'runtime', 'vote_count']\n",
    "df[int_cols] = df[int_cols].astype(int)\n",
    "df[int_cols].fillna(0, inplace=True)"
   ]
  },
  {
   "cell_type": "code",
   "execution_count": 16,
   "metadata": {},
   "outputs": [
    {
     "data": {
      "text/html": [
       "<div>\n",
       "<style scoped>\n",
       "    .dataframe tbody tr th:only-of-type {\n",
       "        vertical-align: middle;\n",
       "    }\n",
       "\n",
       "    .dataframe tbody tr th {\n",
       "        vertical-align: top;\n",
       "    }\n",
       "\n",
       "    .dataframe thead th {\n",
       "        text-align: right;\n",
       "    }\n",
       "</style>\n",
       "<table border=\"1\" class=\"dataframe\">\n",
       "  <thead>\n",
       "    <tr style=\"text-align: right;\">\n",
       "      <th></th>\n",
       "      <th>id</th>\n",
       "      <th>title</th>\n",
       "      <th>genres</th>\n",
       "      <th>original_language</th>\n",
       "      <th>overview</th>\n",
       "      <th>popularity</th>\n",
       "      <th>production_companies</th>\n",
       "      <th>release_date</th>\n",
       "      <th>budget</th>\n",
       "      <th>revenue</th>\n",
       "      <th>runtime</th>\n",
       "      <th>status</th>\n",
       "      <th>tagline</th>\n",
       "      <th>vote_average</th>\n",
       "      <th>vote_count</th>\n",
       "      <th>credits</th>\n",
       "      <th>keywords</th>\n",
       "    </tr>\n",
       "  </thead>\n",
       "  <tbody>\n",
       "    <tr>\n",
       "      <th>0</th>\n",
       "      <td>823464</td>\n",
       "      <td>Godzilla x Kong: The New Empire</td>\n",
       "      <td>Science Fiction-Action-Adventure</td>\n",
       "      <td>en</td>\n",
       "      <td>Following their explosive showdown Godzilla an...</td>\n",
       "      <td>10484.676</td>\n",
       "      <td>Legendary Pictures-Warner Bros. Pictures</td>\n",
       "      <td>2024-03-27</td>\n",
       "      <td>150000000</td>\n",
       "      <td>558503759</td>\n",
       "      <td>115</td>\n",
       "      <td>Released</td>\n",
       "      <td>Rise together or fall alone.</td>\n",
       "      <td>7.246</td>\n",
       "      <td>1878</td>\n",
       "      <td>Rebecca Hall-Brian Tyree Henry-Dan Stevens-Kay...</td>\n",
       "      <td>giant monster-sequel-dinosaur-kaiju-fantasy wo...</td>\n",
       "    </tr>\n",
       "    <tr>\n",
       "      <th>1</th>\n",
       "      <td>615656</td>\n",
       "      <td>Meg 2: The Trench</td>\n",
       "      <td>Action-Science Fiction-Horror</td>\n",
       "      <td>en</td>\n",
       "      <td>An exploratory dive into the deepest depths of...</td>\n",
       "      <td>8763.998</td>\n",
       "      <td>Apelles Entertainment-Warner Bros. Pictures-di...</td>\n",
       "      <td>2023-08-02</td>\n",
       "      <td>129000000</td>\n",
       "      <td>352056482</td>\n",
       "      <td>116</td>\n",
       "      <td>Released</td>\n",
       "      <td>Back for seconds.</td>\n",
       "      <td>7.079</td>\n",
       "      <td>1365</td>\n",
       "      <td>Jason Statham-Wu Jing-Shuya Sophia Cai-Sergio ...</td>\n",
       "      <td>based on novel or book-sequel-kaiju</td>\n",
       "    </tr>\n",
       "    <tr>\n",
       "      <th>2</th>\n",
       "      <td>758323</td>\n",
       "      <td>The Pope's Exorcist</td>\n",
       "      <td>Horror-Mystery-Thriller</td>\n",
       "      <td>en</td>\n",
       "      <td>Father Gabriele Amorth Chief Exorcist of the V...</td>\n",
       "      <td>5953.227</td>\n",
       "      <td>Screen Gems-2.0 Entertainment-Jesus &amp; Mary-Wor...</td>\n",
       "      <td>2023-04-05</td>\n",
       "      <td>18000000</td>\n",
       "      <td>65675816</td>\n",
       "      <td>103</td>\n",
       "      <td>Released</td>\n",
       "      <td>Inspired by the actual files of Father Gabriel...</td>\n",
       "      <td>7.433</td>\n",
       "      <td>545</td>\n",
       "      <td>Russell Crowe-Daniel Zovatto-Alex Essoe-Franco...</td>\n",
       "      <td>spain-rome italy-vatican-pope-pig-possession-c...</td>\n",
       "    </tr>\n",
       "    <tr>\n",
       "      <th>3</th>\n",
       "      <td>667538</td>\n",
       "      <td>Transformers: Rise of the Beasts</td>\n",
       "      <td>Action-Adventure-Science Fiction</td>\n",
       "      <td>en</td>\n",
       "      <td>When a new threat capable of destroying the en...</td>\n",
       "      <td>5409.104</td>\n",
       "      <td>Skydance-Paramount-di Bonaventura Pictures-Bay...</td>\n",
       "      <td>2023-06-06</td>\n",
       "      <td>200000000</td>\n",
       "      <td>407045464</td>\n",
       "      <td>127</td>\n",
       "      <td>Released</td>\n",
       "      <td>Unite or fall.</td>\n",
       "      <td>7.340</td>\n",
       "      <td>1007</td>\n",
       "      <td>Anthony Ramos-Dominique Fishback-Luna Lauren V...</td>\n",
       "      <td>peru-alien-end of the world-based on cartoon-b...</td>\n",
       "    </tr>\n",
       "    <tr>\n",
       "      <th>4</th>\n",
       "      <td>693134</td>\n",
       "      <td>Dune: Part Two</td>\n",
       "      <td>Science Fiction-Adventure</td>\n",
       "      <td>en</td>\n",
       "      <td>Follow the mythic journey of Paul Atreides as ...</td>\n",
       "      <td>4742.163</td>\n",
       "      <td>Legendary Pictures</td>\n",
       "      <td>2024-02-27</td>\n",
       "      <td>190000000</td>\n",
       "      <td>683813734</td>\n",
       "      <td>167</td>\n",
       "      <td>Released</td>\n",
       "      <td>Long live the fighters.</td>\n",
       "      <td>8.300</td>\n",
       "      <td>2770</td>\n",
       "      <td>Timothée Chalamet-Zendaya-Rebecca Ferguson-Jav...</td>\n",
       "      <td>epic-based on novel or book-fight-sandstorm-sa...</td>\n",
       "    </tr>\n",
       "  </tbody>\n",
       "</table>\n",
       "</div>"
      ],
      "text/plain": [
       "       id                             title                            genres  \\\n",
       "0  823464   Godzilla x Kong: The New Empire  Science Fiction-Action-Adventure   \n",
       "1  615656                 Meg 2: The Trench     Action-Science Fiction-Horror   \n",
       "2  758323               The Pope's Exorcist           Horror-Mystery-Thriller   \n",
       "3  667538  Transformers: Rise of the Beasts  Action-Adventure-Science Fiction   \n",
       "4  693134                    Dune: Part Two         Science Fiction-Adventure   \n",
       "\n",
       "  original_language                                           overview  \\\n",
       "0                en  Following their explosive showdown Godzilla an...   \n",
       "1                en  An exploratory dive into the deepest depths of...   \n",
       "2                en  Father Gabriele Amorth Chief Exorcist of the V...   \n",
       "3                en  When a new threat capable of destroying the en...   \n",
       "4                en  Follow the mythic journey of Paul Atreides as ...   \n",
       "\n",
       "   popularity                               production_companies release_date  \\\n",
       "0   10484.676           Legendary Pictures-Warner Bros. Pictures   2024-03-27   \n",
       "1    8763.998  Apelles Entertainment-Warner Bros. Pictures-di...   2023-08-02   \n",
       "2    5953.227  Screen Gems-2.0 Entertainment-Jesus & Mary-Wor...   2023-04-05   \n",
       "3    5409.104  Skydance-Paramount-di Bonaventura Pictures-Bay...   2023-06-06   \n",
       "4    4742.163                                 Legendary Pictures   2024-02-27   \n",
       "\n",
       "      budget    revenue  runtime    status  \\\n",
       "0  150000000  558503759      115  Released   \n",
       "1  129000000  352056482      116  Released   \n",
       "2   18000000   65675816      103  Released   \n",
       "3  200000000  407045464      127  Released   \n",
       "4  190000000  683813734      167  Released   \n",
       "\n",
       "                                             tagline  vote_average  \\\n",
       "0                       Rise together or fall alone.         7.246   \n",
       "1                                  Back for seconds.         7.079   \n",
       "2  Inspired by the actual files of Father Gabriel...         7.433   \n",
       "3                                     Unite or fall.         7.340   \n",
       "4                            Long live the fighters.         8.300   \n",
       "\n",
       "   vote_count                                            credits  \\\n",
       "0        1878  Rebecca Hall-Brian Tyree Henry-Dan Stevens-Kay...   \n",
       "1        1365  Jason Statham-Wu Jing-Shuya Sophia Cai-Sergio ...   \n",
       "2         545  Russell Crowe-Daniel Zovatto-Alex Essoe-Franco...   \n",
       "3        1007  Anthony Ramos-Dominique Fishback-Luna Lauren V...   \n",
       "4        2770  Timothée Chalamet-Zendaya-Rebecca Ferguson-Jav...   \n",
       "\n",
       "                                            keywords  \n",
       "0  giant monster-sequel-dinosaur-kaiju-fantasy wo...  \n",
       "1                based on novel or book-sequel-kaiju  \n",
       "2  spain-rome italy-vatican-pope-pig-possession-c...  \n",
       "3  peru-alien-end of the world-based on cartoon-b...  \n",
       "4  epic-based on novel or book-fight-sandstorm-sa...  "
      ]
     },
     "execution_count": 16,
     "metadata": {},
     "output_type": "execute_result"
    }
   ],
   "source": [
    "df.head()"
   ]
  },
  {
   "cell_type": "code",
   "execution_count": 8,
   "metadata": {},
   "outputs": [],
   "source": [
    "df.to_csv('../data/movies.csv', index=False)"
   ]
  },
  {
   "cell_type": "code",
   "execution_count": null,
   "metadata": {},
   "outputs": [],
   "source": []
  }
 ],
 "metadata": {
  "kernelspec": {
   "display_name": "Python 3",
   "language": "python",
   "name": "python3"
  },
  "language_info": {
   "codemirror_mode": {
    "name": "ipython",
    "version": 3
   },
   "file_extension": ".py",
   "mimetype": "text/x-python",
   "name": "python",
   "nbconvert_exporter": "python",
   "pygments_lexer": "ipython3",
   "version": "3.11.9"
  }
 },
 "nbformat": 4,
 "nbformat_minor": 2
}

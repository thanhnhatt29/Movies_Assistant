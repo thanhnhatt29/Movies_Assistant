{
 "cells": [
  {
   "cell_type": "code",
   "execution_count": 1,
   "metadata": {},
   "outputs": [],
   "source": [
    "import pandas\n",
    "from tqdm.auto import tqdm"
   ]
  },
  {
   "cell_type": "code",
   "execution_count": 2,
   "metadata": {},
   "outputs": [],
   "source": [
    "df = pandas.read_csv('../data/movies.csv', keep_default_na=False)"
   ]
  },
  {
   "cell_type": "code",
   "execution_count": 18,
   "metadata": {},
   "outputs": [],
   "source": [
    "drop_col = ['recommendations', 'backdrop_path', 'poster_path']\n",
    "df.drop(drop_col, axis=1, inplace=True)"
   ]
  },
  {
   "cell_type": "code",
   "execution_count": 19,
   "metadata": {},
   "outputs": [
    {
     "name": "stderr",
     "output_type": "stream",
     "text": [
      "C:\\Users\\MSI\\AppData\\Local\\Temp\\ipykernel_13336\\285493603.py:1: FutureWarning: A value is trying to be set on a copy of a DataFrame or Series through chained assignment using an inplace method.\n",
      "The behavior will change in pandas 3.0. This inplace method will never work because the intermediate object on which we are setting values always behaves as a copy.\n",
      "\n",
      "For example, when doing 'df[col].method(value, inplace=True)', try using 'df.method({col: value}, inplace=True)' or df[col] = df[col].method(value) instead, to perform the operation inplace on the original object.\n",
      "\n",
      "\n",
      "  df['release_date'].replace('', '1970-01-01', inplace=True)\n"
     ]
    }
   ],
   "source": [
    "df['release_date'].replace('', '1970-01-01', inplace=True)"
   ]
  },
  {
   "cell_type": "code",
   "execution_count": 20,
   "metadata": {},
   "outputs": [],
   "source": [
    "documents = df.to_dict(orient='records')"
   ]
  },
  {
   "cell_type": "code",
   "execution_count": 21,
   "metadata": {},
   "outputs": [
    {
     "data": {
      "text/plain": [
       "{'id': 569094,\n",
       " 'title': 'Spider-Man: Across the Spider-Verse',\n",
       " 'genres': 'Action-Adventure-Animation-Science Fiction',\n",
       " 'original_language': 'en',\n",
       " 'overview': 'After reuniting with Gwen Stacy Brooklyn’s full-time friendly neighborhood Spider-Man is catapulted across the Multiverse where he encounters the Spider Society a team of Spider-People charged with protecting the Multiverse’s very existence. But when the heroes clash on how to handle a new threat Miles finds himself pitted against the other Spiders and must set out on his own to save those he loves most.',\n",
       " 'popularity': 2550.738,\n",
       " 'production_companies': 'Columbia Pictures-Sony Pictures Animation-Lord Miller-Pascal Pictures-Arad Productions',\n",
       " 'release_date': '2023-05-31',\n",
       " 'budget': 100000000.0,\n",
       " 'revenue': 512609552.0,\n",
       " 'runtime': '140.0',\n",
       " 'status': 'Released',\n",
       " 'tagline': \"It's how you wear the mask that matters\",\n",
       " 'vote_average': 8.64,\n",
       " 'vote_count': 1684.0,\n",
       " 'credits': \"Shameik Moore-Hailee Steinfeld-Brian Tyree Henry-Luna Lauren Velez-Jake Johnson-Oscar Isaac-Jason Schwartzman-Issa Rae-Daniel Kaluuya-Karan Soni-Shea Whigham-Greta Lee-Mahershala Ali-Amandla Stenberg-Jharrel Jerome-Andy Samberg-Jack Quaid-Rachel Dratch-Ziggy Marley-Jorma Taccone-J.K. Simmons-Donald Glover-Elizabeth Perkins-Kathryn Hahn-Ayo Edebiri-Nicole Delaney-Antonina Lentini-Atsuko Okatsuka-Peter Sohn-Melissa Sturm-Lorraine Velez-Nic Novicki-Taran Killam-Metro Boomin-Josh Keaton-Sofia Barclay-Danielle Perez-Yuri Lowenthal-Rita Rani Ahuja-Ismail Bashey-Oscar Camacho-Freddy Ferrari-Kerry Gutierrez-Kamal Khan-Angelo Sekou Kouyate-Andrew Leviton-David Michie-Sumit Naig-Juan Pacheco-Chrystee Pharris-Ben Pronsky-Al Rodrigo-Jaswant Dev Shrestha-Libby Thomas Dickey-Ruth Zalduondo-Jasper Johannes Andrews-Gredel Berrios Calladine-Natalia Castellanos-Russell Tyre Francis-Deepti Gupta-Sohm Kapila-Pradnya Kuwadekar-Ashley London-Christopher Miller-Andrea Navedo-Lakshmi Patel-Jacqueline Pinol-Eliyas Qureshi-Lashana Rodriguez-Dennis Singletary-Amanda Troop-Sitara Attaie-Mayuri Bhandari-June Christopher-Michelle Jubilee Gonzalez-Marabina Jaimes-Rez Kempton-Lex Lang-Phil Lord-Richard Miro-Doug Nicholas-Shakira Ja'nai Paye-James Pirri-Marley Ralph-Michelle Ruff-Narender Sood-Cedric L. Williams-Kimberly Bailey-Sanjay Chandani-Melanie Duke-Jorge R. Gutierrez-Miguel Jiron-Deepti Kingra-Mickelsen-Luisa Leschin-Caitlin McKenna-Richard Andrew Morgado-Arthur Ortiz-Eliana A. Perez-Juan Pope-Mike Rianda-Stan Sellers-Warren Sroka-Jason Linere-White-Kimiko Glenn-Peggy Lu-John Mulaney-Andrew Garfield-Denis Leary-Tobey Maguire-Cliff Robertson-Alfred Molina-Post Malone\",\n",
       " 'keywords': 'sacrifice-villain-comic book-sequel-superhero-based on comic-alternate dimension-alternate version-super power-brooklyn new york city-superhero team-spider bite-super villain-cliffhanger-teen superhero-alternate universe-female superhero-cartoon spider'}"
      ]
     },
     "execution_count": 21,
     "metadata": {},
     "output_type": "execute_result"
    }
   ],
   "source": [
    "documents[10]"
   ]
  },
  {
   "cell_type": "code",
   "execution_count": 6,
   "metadata": {},
   "outputs": [],
   "source": [
    "from elasticsearch import Elasticsearch, helpers\n",
    "es_client = Elasticsearch('http://localhost:9200')\n",
    "\n",
    "index_name = \"movies\""
   ]
  },
  {
   "cell_type": "code",
   "execution_count": 53,
   "metadata": {},
   "outputs": [],
   "source": [
    "if es_client.indices.exists(index='movies'):\n",
    "    es_client.indices.delete(index='movies')"
   ]
  },
  {
   "cell_type": "code",
   "execution_count": 54,
   "metadata": {},
   "outputs": [
    {
     "data": {
      "text/plain": [
       "ObjectApiResponse({'acknowledged': True, 'shards_acknowledged': True, 'index': 'movies'})"
      ]
     },
     "execution_count": 54,
     "metadata": {},
     "output_type": "execute_result"
    }
   ],
   "source": [
    "index_settings = {\n",
    "    \"settings\": {\n",
    "        \"number_of_shards\": 1,\n",
    "        \"number_of_replicas\": 0\n",
    "    },\n",
    "    \"mappings\": {\n",
    "        \"properties\": {\n",
    "            \"id\": {\"type\": \"integer\", \"null_value\": 0},\n",
    "            \"title\": {\"type\": \"text\"},\n",
    "            \"genres\": {\"type\": \"text\"},\n",
    "            \"original_language\": {\"type\": \"keyword\"},\n",
    "            \"overview\": {\"type\": \"text\"},\n",
    "            \"popularity\": {\"type\": \"float\"},\n",
    "            \"production_companies\": {\"type\": \"text\"},\n",
    "            \"release_date\": {\"type\": \"date\", \"format\": \"yyyy-MM-dd\", \"null_value\": \"1970-01-01\"},\n",
    "            \"budget\": {\"type\": \"float\"},\n",
    "            \"revenue\": {\"type\": \"float\"},\n",
    "            \"runtime\": {\"type\": \"float\"},\n",
    "            \"status\": {\"type\": \"keyword\"},\n",
    "            \"tagline\": {\"type\": \"text\"},\n",
    "            \"vote_average\": {\"type\": \"float\"},\n",
    "            \"vote_count\": {\"type\": \"float\"},\n",
    "            \"credits\": {\"type\": \"text\"},\n",
    "            \"keywords\": {\"type\": \"text\"},\n",
    "        }\n",
    "    }\n",
    "}\n",
    "\n",
    "es_client.indices.create(index=index_name, body=index_settings) "
   ]
  },
  {
   "cell_type": "code",
   "execution_count": 55,
   "metadata": {},
   "outputs": [],
   "source": [
    "# #  took so long to index, about 20it with 560k rows after filter, ~ 450 minutes\n",
    "# for doc in tqdm(documents):\n",
    "#     es_client.index(index=index_name, document=doc)"
   ]
  },
  {
   "cell_type": "code",
   "execution_count": 7,
   "metadata": {},
   "outputs": [
    {
     "data": {
      "text/plain": [
       "722359"
      ]
     },
     "execution_count": 7,
     "metadata": {},
     "output_type": "execute_result"
    }
   ],
   "source": [
    "es_client.count(index=index_name).get('count')"
   ]
  },
  {
   "cell_type": "code",
   "execution_count": 57,
   "metadata": {},
   "outputs": [],
   "source": [
    "# Function to create the bulk actions\n",
    "def generate_actions():\n",
    "    for doc in documents:\n",
    "        yield {\n",
    "            \"_index\": index_name,  # Replace with your index name\n",
    "            \"_source\": doc\n",
    "        }\n",
    "\n",
    "# Bulk indexing function with progress bar\n",
    "def bulk_index(batch_size=2000):\n",
    "    total_documents = len(documents)\n",
    "    progress_bar = tqdm(total=total_documents, desc=\"Indexing Progress\")\n",
    "    \n",
    "    for success, info in helpers.parallel_bulk(\n",
    "        es_client,\n",
    "        generate_actions(),\n",
    "        chunk_size=batch_size\n",
    "    ):\n",
    "        if not success:\n",
    "            print('A document failed:', info)\n",
    "        progress_bar.update(batch_size)\n",
    "    \n",
    "    progress_bar.close()"
   ]
  },
  {
   "cell_type": "code",
   "execution_count": null,
   "metadata": {},
   "outputs": [],
   "source": [
    "bulk_index()"
   ]
  },
  {
   "cell_type": "markdown",
   "metadata": {},
   "source": [
    "## RAG flow"
   ]
  },
  {
   "cell_type": "code",
   "execution_count": 8,
   "metadata": {},
   "outputs": [],
   "source": [
    "import os\n",
    "from dotenv import load_dotenv\n",
    "\n",
    "load_dotenv()\n",
    "HUGGINGFACE_TOKEN = os.getenv('HUGGINGFACE_TOKEN')"
   ]
  },
  {
   "cell_type": "code",
   "execution_count": 16,
   "metadata": {},
   "outputs": [],
   "source": [
    "def elastic_search(query):\n",
    "\n",
    "    search_query = {\n",
    "        \"size\": 10,\n",
    "        \"query\": {\n",
    "            \"multi_match\": {\n",
    "                \"query\": query,\n",
    "                \"fields\": [\"title^3\", \"description^2\", \"overview^1.5\", \"genres\", \"keywords\"],\n",
    "                \"type\": \"best_fields\",\n",
    "                \"fuzziness\": \"AUTO\"\n",
    "            }\n",
    "        }\n",
    "    }\n",
    "\n",
    "    response = es_client.search(index=index_name, body=search_query)\n",
    "    \n",
    "    result_docs = [hit['_source'] for hit in response['hits']['hits']]\n",
    "    \n",
    "    return result_docs"
   ]
  },
  {
   "cell_type": "code",
   "execution_count": 10,
   "metadata": {},
   "outputs": [],
   "source": [
    "prompt_template = \"\"\"\n",
    "You're a movie assistant. Answer the QUESTION based on the CONTEXT from our movies data.\n",
    "Use only the facts from the CONTEXT when answering the QUESTION.\n",
    "\n",
    "QUESTION: {question}\n",
    "\n",
    "CONTEXT:\n",
    "{context}\n",
    "\"\"\".strip()\n",
    "\n",
    "\n",
    "entry_template = \"\"\"\n",
    "title: {title}\n",
    "genres: {genres}\n",
    "original_language: {original_language}\n",
    "overview: {overview}\n",
    "popularity: {popularity}\n",
    "production_companies: {production_companies} \n",
    "release_date: {release_date}\n",
    "budget: {budget}\n",
    "revenue: {revenue}\n",
    "runtime: {runtime}\n",
    "status: {status}\n",
    "tagline: {tagline}\n",
    "vote_average: {vote_average}\n",
    "vote_count: {vote_count}\n",
    "credits: {credits}\n",
    "keywords: {keywords}\n",
    "\"\"\".strip()\n",
    "\n",
    "def build_prompt(query, search_results):\n",
    "    context = \"\"\n",
    "    \n",
    "    for doc in search_results:\n",
    "        context = context + entry_template.format(**doc) + \"\\n\\n\"\n",
    "\n",
    "    prompt = prompt_template.format(question=query, context=context).strip()\n",
    "    return prompt"
   ]
  },
  {
   "cell_type": "code",
   "execution_count": 11,
   "metadata": {},
   "outputs": [],
   "source": [
    "from huggingface_hub import InferenceClient\n",
    "\n",
    "def llm(prompt, model='mistralai/Mixtral-8x7B-Instruct-v0.1'):\n",
    "    client = InferenceClient(\n",
    "        model,\n",
    "        token=HUGGINGFACE_TOKEN,\n",
    "    )\n",
    "\n",
    "    response = client.chat_completion(\n",
    "        messages=[{\"role\": \"user\", \"content\": prompt}],\n",
    "        max_tokens=500\n",
    "    )\n",
    "    \n",
    "    return response.choices[0].message.content"
   ]
  },
  {
   "cell_type": "code",
   "execution_count": 12,
   "metadata": {},
   "outputs": [],
   "source": [
    "def rag(query, model='mistralai/Mixtral-8x7B-Instruct-v0.1'):\n",
    "    search_results = elastic_search(query)\n",
    "    prompt = build_prompt(query, search_results)\n",
    "    answer = llm(prompt, model=model)\n",
    "    return answer"
   ]
  },
  {
   "cell_type": "code",
   "execution_count": 50,
   "metadata": {},
   "outputs": [
    {
     "name": "stdout",
     "output_type": "stream",
     "text": [
      " Based on the provided context, Julie Delpy and Ethan Hawke starred in \"Before Midnight\" and \"The Space in Between\". \"Before Midnight\" is not included in the context, but it is part of the trilogy discussed in \"The Space in Between\" where both actors are listed in the credits.\n"
     ]
    }
   ],
   "source": [
    "question = 'Julie Delpy and Ethan Hawke starred in which movies?'\n",
    "answer = rag(question)\n",
    "print(answer)"
   ]
  },
  {
   "cell_type": "code",
   "execution_count": 15,
   "metadata": {},
   "outputs": [],
   "source": [
    "query = 'Julie Delpy and Ethan Hawke starred in which movies?'\n",
    "\n",
    "prompt = build_prompt(query, elastic_search(query))"
   ]
  },
  {
   "cell_type": "code",
   "execution_count": 17,
   "metadata": {},
   "outputs": [
    {
     "data": {
      "text/plain": [
       "[{'id': 458508,\n",
       "  'title': 'The Space in Between',\n",
       "  'genres': 'Documentary',\n",
       "  'original_language': 'en',\n",
       "  'overview': 'A new piece in which Linklater and actor-cowriters Julie Delpy and Ethan Hawke discuss the trilogy moderated by critic Kent Jones.',\n",
       "  'popularity': 0.629,\n",
       "  'production_companies': '',\n",
       "  'release_date': '2017-02-28',\n",
       "  'budget': 0.0,\n",
       "  'revenue': 0.0,\n",
       "  'runtime': '44.0',\n",
       "  'status': 'Released',\n",
       "  'tagline': '',\n",
       "  'vote_average': 8.0,\n",
       "  'vote_count': 1.0,\n",
       "  'credits': 'Kent Jones-Richard Linklater-Ethan Hawke-Julie Delpy',\n",
       "  'keywords': '',\n",
       "  'poster_path': '/j0zXxYOwzq8tUbQ9dTGwJz5Jp80.jpg',\n",
       "  'backdrop_path': '',\n",
       "  'recommendations': ''},\n",
       " {'id': 24803,\n",
       "  'title': 'Julie & Julia',\n",
       "  'genres': 'Romance-Drama',\n",
       "  'original_language': 'en',\n",
       "  'overview': 'Julia Child and Julie Powell – both of whom wrote memoirs – find their lives intertwined. Though separated by time and space both women are at loose ends... until they discover that with the right combination of passion fearlessness and butter anything is possible.',\n",
       "  'popularity': 14.491,\n",
       "  'production_companies': 'Columbia Pictures-Scott Rudin Productions-Easy There Tiger Productions',\n",
       "  'release_date': '2009-08-06',\n",
       "  'budget': 40000000.0,\n",
       "  'revenue': 129540499.0,\n",
       "  'runtime': '123.0',\n",
       "  'status': 'Released',\n",
       "  'tagline': 'Based on Two True Stories.',\n",
       "  'vote_average': 6.681,\n",
       "  'vote_count': 1859.0,\n",
       "  'credits': \"Meryl Streep-Amy Adams-Stanley Tucci-Chris Messina-Linda Emond-Helen Carey-Mary Lynn Rajskub-Jane Lynch-Joan Juliet Buck-Crystal McCreary-George Bartenieff-Vanessa Ferlito-Casey Wilson-Jillian Bach-Andrew Garman-Brooks Ashmanskas-Michael Brian Dunn-Remak Ramsay-Diane Kagan-Pamela Stewart-Jeff Brooks-Frances Sternhagen-Eric Sheffer Stevens-Brian Avers-Kacie Sheik-Megan Byrne-Deborah Rush-Helen Coxe-Amanda Hesser-Maryann Urbano-Simon Jutras-Felicity Jones-Meg Kettell-Stephen Bogardus-Byron Jennings-Kelly AuCoin-Richard Bekins-Luc Palun-Rémy Roubakha-Marceline Hugot-Erin Dilly-Robert Emmet Lunney-Guiesseppe Jones-Jeff Talbott-Johnny Sparks-Simon Feil-Paul Borghese-Mark Gindick-D.L. Shroder-Darin De Paul-Tom Galantich-Allyn Burrows-Cenovia Cummins-Maxim Moston-Shmuel Katz-Paul Ognissanti-Eric G. Halvorson-Julia Prud'homme-Dimitri Radochevitch-Emmanuel Suarez-Christelle Cornil-Françoise Lebrun-Teddy Bergman-Jean-Pierre Becker-Mark Wilkins-Jamie Hall-Francesco David-Denise Marie Whalen-Luis Villabon-Valentine Aprile-Alexander Brady-Roy William Gardner-Dianne Dreyer-Evelyn Taucher-Mary Kay Place\",\n",
       "  'keywords': 'cooking-cookbook-blog-woman director-french cuisine-culinary arts-publishing',\n",
       "  'poster_path': '/r1bFBBj3VMek0oEtgm9N51OqVjF.jpg',\n",
       "  'backdrop_path': '/2vraSlVbpvhoA4QxZAY4mWy46Ps.jpg',\n",
       "  'recommendations': '350-22897-967227-71688-14359-82696-2313-11631-26149-590-55721-10625-426166-22414-866-275601-38167-13998-152737-245168-12102'},\n",
       " {'id': 243539,\n",
       "  'title': 'Scared Sacred',\n",
       "  'genres': 'Documentary',\n",
       "  'original_language': 'en',\n",
       "  'overview': \"In a world teetering on the edge of self-destruction award-winning filmmaker Velcrow Ripper sets out on a unique pilgrimage. Visiting the 'Ground Zeroes' of the planet he asks if it's possible to find hope in the darkest moments of human history.  Ripper travels to the minefields of Cambodia; war-torn Afghanistan; the toxic wasteland of Bhopal; post-9/11 New York; Bosnia; Hiroshima; Israel and Palestine. This powerful documentary captures his five-year odyssey to discover if humanity can transform the 'scared' into the 'sacred'.\",\n",
       "  'popularity': 0.6,\n",
       "  'production_companies': '',\n",
       "  'release_date': '2005-12-31',\n",
       "  'budget': 0.0,\n",
       "  'revenue': 0.0,\n",
       "  'runtime': '104.0',\n",
       "  'status': 'Released',\n",
       "  'tagline': '',\n",
       "  'vote_average': 0.0,\n",
       "  'vote_count': 0.0,\n",
       "  'credits': '',\n",
       "  'keywords': '',\n",
       "  'poster_path': '',\n",
       "  'backdrop_path': '',\n",
       "  'recommendations': ''},\n",
       " {'id': 468121,\n",
       "  'title': 'Julie, Julie',\n",
       "  'genres': '',\n",
       "  'original_language': 'en',\n",
       "  'overview': 'The film starts with voice over by Julie (Jill Delaney) which sets the minimalist plot running as she rides on her Ducati 750 into Melbourne.',\n",
       "  'popularity': 0.6,\n",
       "  'production_companies': '',\n",
       "  'release_date': '1983-01-01',\n",
       "  'budget': 0.0,\n",
       "  'revenue': 0.0,\n",
       "  'runtime': '25.0',\n",
       "  'status': 'Released',\n",
       "  'tagline': '',\n",
       "  'vote_average': 0.0,\n",
       "  'vote_count': 0.0,\n",
       "  'credits': '',\n",
       "  'keywords': '',\n",
       "  'poster_path': '/miTmDjcZmJvJtyNzdNiE98GvnXc.jpg',\n",
       "  'backdrop_path': '',\n",
       "  'recommendations': ''},\n",
       " {'id': 447687,\n",
       "  'title': 'Secret Ingredients: Creating Julie & Julia',\n",
       "  'genres': 'Documentary',\n",
       "  'original_language': 'en',\n",
       "  'overview': \"Behind the scenes of 'Julie & Julia'.\",\n",
       "  'popularity': 2.764,\n",
       "  'production_companies': 'Sony Pictures Home Entertainment',\n",
       "  'release_date': '2009-12-08',\n",
       "  'budget': 0.0,\n",
       "  'revenue': 0.0,\n",
       "  'runtime': '27.0',\n",
       "  'status': 'Released',\n",
       "  'tagline': '',\n",
       "  'vote_average': 6.3,\n",
       "  'vote_count': 6.0,\n",
       "  'credits': 'Julie Powell-Nora Ephron-Jane Lynch-Meryl Streep-Amy Adams-Chris Messina-Stanley Tucci',\n",
       "  'keywords': '',\n",
       "  'poster_path': '/87CEpM3fKY20MmNH8v9kFB6Nvqf.jpg',\n",
       "  'backdrop_path': '',\n",
       "  'recommendations': ''},\n",
       " {'id': 447687,\n",
       "  'title': 'Secret Ingredients: Creating Julie & Julia',\n",
       "  'genres': 'Documentary',\n",
       "  'original_language': 'en',\n",
       "  'overview': \"Behind the scenes of 'Julie & Julia'.\",\n",
       "  'popularity': 1.432,\n",
       "  'production_companies': 'Sony Pictures Home Entertainment',\n",
       "  'release_date': '2009-12-08',\n",
       "  'budget': 0.0,\n",
       "  'revenue': 0.0,\n",
       "  'runtime': '27.0',\n",
       "  'status': 'Released',\n",
       "  'tagline': '',\n",
       "  'vote_average': 6.3,\n",
       "  'vote_count': 6.0,\n",
       "  'credits': 'Julie Powell-Nora Ephron-Jane Lynch-Meryl Streep-Amy Adams-Chris Messina-Stanley Tucci',\n",
       "  'keywords': '',\n",
       "  'poster_path': '/87CEpM3fKY20MmNH8v9kFB6Nvqf.jpg',\n",
       "  'backdrop_path': '',\n",
       "  'recommendations': ''},\n",
       " {'id': 41132,\n",
       "  'title': 'Hawke',\n",
       "  'genres': 'Drama-History-TV Movie',\n",
       "  'original_language': 'en',\n",
       "  'overview': \"The story of Bob Hawke - Australia's most loved Prime Minister as he faces his greatest challenge: a battle within his own party.  As he fights for his life we discover his incredible transformation from a hard-drinking womanising trade union leader into a visionary world leader.  For a man who once sacrificed his family to his job he must now rely solely on his friendships and allegiances to defeat his challenger and remain in power.\",\n",
       "  'popularity': 1.868,\n",
       "  'production_companies': 'The Film Company',\n",
       "  'release_date': '2010-07-18',\n",
       "  'budget': 0.0,\n",
       "  'revenue': 0.0,\n",
       "  'runtime': '94.0',\n",
       "  'status': 'Released',\n",
       "  'tagline': 'The Rival. The Wife. The Lover. The Leader.',\n",
       "  'vote_average': 6.5,\n",
       "  'vote_count': 2.0,\n",
       "  'credits': 'Richard Roxburgh-Rachael Blake-Felix Williamson-Sacha Horler-Asher Keddie-Patrick Brammall-Lliam Amor-Simon Maiden-Greg Saunders-Terry Norris-Julia Blake-Sara Gleeson-Josh Lawson-Mark Blackmore-Paul Gleeson-Ben Anderson-Matthew King-Tim Bell-Wendy Bos-Pia Morley-Nick Farnell-Paul Denny',\n",
       "  'keywords': 'biography-politician-woman director',\n",
       "  'poster_path': '/bnW4rLQfmigHSW243Rr5LIgin1P.jpg',\n",
       "  'backdrop_path': '/8vd1pk86SBMBWOBmZs2EzqoQhuK.jpg',\n",
       "  'recommendations': ''},\n",
       " {'id': 279768,\n",
       "  'title': 'Ronnie and Julie',\n",
       "  'genres': 'Romance-Drama',\n",
       "  'original_language': 'en',\n",
       "  'overview': \"In this modern day version of 'Romeo and Juliet' a rising hockey star and a figure skater with a bright future fall in love. However they find themselves on opposite sides of the rink due to the fierce rivalry between their parents.\",\n",
       "  'popularity': 1.741,\n",
       "  'production_companies': 'Evergreen Entertainment-Showtime Networks',\n",
       "  'release_date': '1997-03-29',\n",
       "  'budget': 0.0,\n",
       "  'revenue': 0.0,\n",
       "  'runtime': '99.0',\n",
       "  'status': 'Released',\n",
       "  'tagline': '',\n",
       "  'vote_average': 1.0,\n",
       "  'vote_count': 1.0,\n",
       "  'credits': 'Teri Garr-Joshua Jackson-Margot Finley-Tom Butler-Morgan Brayton',\n",
       "  'keywords': 'ice hockey-teen angst',\n",
       "  'poster_path': '/rJHTnF2OKksqrOeSjza63SP94q4.jpg',\n",
       "  'backdrop_path': '',\n",
       "  'recommendations': ''},\n",
       " {'id': 279768,\n",
       "  'title': 'Ronnie and Julie',\n",
       "  'genres': 'Romance-Drama',\n",
       "  'original_language': 'en',\n",
       "  'overview': \"In this modern day version of 'Romeo and Juliet' a rising hockey star and a figure skater with a bright future fall in love. However they find themselves on opposite sides of the rink due to the fierce rivalry between their parents.\",\n",
       "  'popularity': 1.792,\n",
       "  'production_companies': 'Evergreen Entertainment-Showtime Networks',\n",
       "  'release_date': '1997-03-29',\n",
       "  'budget': 0.0,\n",
       "  'revenue': 0.0,\n",
       "  'runtime': '99.0',\n",
       "  'status': 'Released',\n",
       "  'tagline': '',\n",
       "  'vote_average': 1.0,\n",
       "  'vote_count': 1.0,\n",
       "  'credits': 'Teri Garr-Joshua Jackson-Margot Finley-Tom Butler-Morgan Brayton',\n",
       "  'keywords': 'ice hockey-teen angst',\n",
       "  'poster_path': '/rJHTnF2OKksqrOeSjza63SP94q4.jpg',\n",
       "  'backdrop_path': '',\n",
       "  'recommendations': ''},\n",
       " {'id': 235239,\n",
       "  'title': 'John and Julie',\n",
       "  'genres': 'Family-Comedy',\n",
       "  'original_language': 'en',\n",
       "  'overview': 'The adventures of two children who runaway to London to see the coronation of Queen Elizabeth.',\n",
       "  'popularity': 1.428,\n",
       "  'production_companies': 'Group 3',\n",
       "  'release_date': '1955-07-26',\n",
       "  'budget': 0.0,\n",
       "  'revenue': 0.0,\n",
       "  'runtime': '82.0',\n",
       "  'status': 'Released',\n",
       "  'tagline': '',\n",
       "  'vote_average': 4.8,\n",
       "  'vote_count': 6.0,\n",
       "  'credits': 'Moira Lister-Noelle Middleton-Constance Cummings-Wilfrid Hyde-White-Sid James-Megs Jenkins-Joseph Tomelty-Patric Doonan-Andrew Cruickshank-Colin Gordon-Winifred Shotter-Peter Jones-Peter Sellers-Patrick Connor-Philip Stainton-Frazer Hines-Molly Weir-Katie Johnson-Bill Shine',\n",
       "  'keywords': '',\n",
       "  'poster_path': '/zEt3HFQOblM96z5I1GcuZJi0DQg.jpg',\n",
       "  'backdrop_path': '/wyoxezpSeSx2SY7h6Q95pGgFEcx.jpg',\n",
       "  'recommendations': ''}]"
      ]
     },
     "execution_count": 17,
     "metadata": {},
     "output_type": "execute_result"
    }
   ],
   "source": [
    "elastic_search(query)"
   ]
  },
  {
   "cell_type": "code",
   "execution_count": 37,
   "metadata": {},
   "outputs": [],
   "source": [
    "\n",
    "client = InferenceClient(\n",
    "        'mistralai/Mixtral-8x7B-Instruct-v0.1',\n",
    "        token=HUGGINGFACE_TOKEN,\n",
    "    )\n",
    "response = \"\"\n",
    "\n",
    "\n",
    "test  = client.chat_completion(\n",
    "        messages=[{\"role\": \"user\", \"content\": prompt}],\n",
    "        max_tokens=500\n",
    "        # stream=True,\n",
    "    )\n",
    "\n",
    "    \n",
    "        # response += message.choices[0].delta.content"
   ]
  },
  {
   "cell_type": "code",
   "execution_count": 41,
   "metadata": {},
   "outputs": [
    {
     "data": {
      "text/plain": [
       "' Based on the provided context, Julie Delpy and Ethan Hawke starred in \"Before Midnight\" and \"The Space in Between\". \"Before Midnight\" is not included in the context, but it is part of the trilogy discussed in \"The Space in Between\" where both actors are listed in the credits.'"
      ]
     },
     "execution_count": 41,
     "metadata": {},
     "output_type": "execute_result"
    }
   ],
   "source": [
    "test.choices[0].message.content"
   ]
  },
  {
   "cell_type": "code",
   "execution_count": 47,
   "metadata": {},
   "outputs": [
    {
     "data": {
      "text/plain": [
       "ChatCompletionOutputUsage(completion_tokens=68, prompt_tokens=2644, total_tokens=2712)"
      ]
     },
     "execution_count": 47,
     "metadata": {},
     "output_type": "execute_result"
    }
   ],
   "source": [
    "test.usage"
   ]
  }
 ],
 "metadata": {
  "kernelspec": {
   "display_name": "Movies_Assistant-0P3PgTCo",
   "language": "python",
   "name": "python3"
  },
  "language_info": {
   "codemirror_mode": {
    "name": "ipython",
    "version": 3
   },
   "file_extension": ".py",
   "mimetype": "text/x-python",
   "name": "python",
   "nbconvert_exporter": "python",
   "pygments_lexer": "ipython3",
   "version": "3.11.9"
  }
 },
 "nbformat": 4,
 "nbformat_minor": 2
}

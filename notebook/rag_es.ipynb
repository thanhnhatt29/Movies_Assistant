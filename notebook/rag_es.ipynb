{
 "cells": [
  {
   "cell_type": "code",
   "execution_count": 48,
   "metadata": {},
   "outputs": [],
   "source": [
    "import pandas\n",
    "from tqdm.auto import tqdm"
   ]
  },
  {
   "cell_type": "code",
   "execution_count": 49,
   "metadata": {},
   "outputs": [],
   "source": [
    "df = pandas.read_csv('../data/movies.csv', keep_default_na=False)"
   ]
  },
  {
   "cell_type": "code",
   "execution_count": 50,
   "metadata": {},
   "outputs": [
    {
     "name": "stderr",
     "output_type": "stream",
     "text": [
      "C:\\Users\\MSI\\AppData\\Local\\Temp\\ipykernel_20384\\285493603.py:1: FutureWarning: A value is trying to be set on a copy of a DataFrame or Series through chained assignment using an inplace method.\n",
      "The behavior will change in pandas 3.0. This inplace method will never work because the intermediate object on which we are setting values always behaves as a copy.\n",
      "\n",
      "For example, when doing 'df[col].method(value, inplace=True)', try using 'df.method({col: value}, inplace=True)' or df[col] = df[col].method(value) instead, to perform the operation inplace on the original object.\n",
      "\n",
      "\n",
      "  df['release_date'].replace('', '1970-01-01', inplace=True)\n"
     ]
    }
   ],
   "source": [
    "df['release_date'].replace('', '1970-01-01', inplace=True)"
   ]
  },
  {
   "cell_type": "code",
   "execution_count": 51,
   "metadata": {},
   "outputs": [],
   "source": [
    "documents = df.to_dict(orient='records')"
   ]
  },
  {
   "cell_type": "code",
   "execution_count": 52,
   "metadata": {},
   "outputs": [],
   "source": [
    "from elasticsearch import Elasticsearch, helpers\n",
    "es_client = Elasticsearch('http://localhost:9200')\n",
    "\n",
    "index_name = \"movies\""
   ]
  },
  {
   "cell_type": "code",
   "execution_count": 53,
   "metadata": {},
   "outputs": [],
   "source": [
    "if es_client.indices.exists(index='movies'):\n",
    "    es_client.indices.delete(index='movies')"
   ]
  },
  {
   "cell_type": "code",
   "execution_count": 54,
   "metadata": {},
   "outputs": [
    {
     "data": {
      "text/plain": [
       "ObjectApiResponse({'acknowledged': True, 'shards_acknowledged': True, 'index': 'movies'})"
      ]
     },
     "execution_count": 54,
     "metadata": {},
     "output_type": "execute_result"
    }
   ],
   "source": [
    "index_settings = {\n",
    "    \"settings\": {\n",
    "        \"number_of_shards\": 1,\n",
    "        \"number_of_replicas\": 0\n",
    "    },\n",
    "    \"mappings\": {\n",
    "        \"properties\": {\n",
    "            \"id\": {\"type\": \"integer\", \"null_value\": 0},\n",
    "            \"title\": {\"type\": \"text\"},\n",
    "            \"genres\": {\"type\": \"text\"},\n",
    "            \"original_language\": {\"type\": \"keyword\"},\n",
    "            \"overview\": {\"type\": \"text\"},\n",
    "            \"popularity\": {\"type\": \"float\"},\n",
    "            \"production_companies\": {\"type\": \"text\"},\n",
    "            \"release_date\": {\"type\": \"date\", \"format\": \"yyyy-MM-dd\", \"null_value\": \"1970-01-01\"},\n",
    "            \"budget\": {\"type\": \"float\"},\n",
    "            \"revenue\": {\"type\": \"float\"},\n",
    "            \"runtime\": {\"type\": \"float\"},\n",
    "            \"status\": {\"type\": \"keyword\"},\n",
    "            \"tagline\": {\"type\": \"text\"},\n",
    "            \"vote_average\": {\"type\": \"float\"},\n",
    "            \"vote_count\": {\"type\": \"float\"},\n",
    "            \"credits\": {\"type\": \"text\"},\n",
    "            \"keywords\": {\"type\": \"text\"},\n",
    "        }\n",
    "    }\n",
    "}\n",
    "\n",
    "es_client.indices.create(index=index_name, body=index_settings) "
   ]
  },
  {
   "cell_type": "code",
   "execution_count": 55,
   "metadata": {},
   "outputs": [],
   "source": [
    "# #  took so long to index, about 20it with 560k rows after filter, ~ 450 minutes\n",
    "# for doc in tqdm(documents):\n",
    "#     es_client.index(index=index_name, document=doc)"
   ]
  },
  {
   "cell_type": "code",
   "execution_count": 59,
   "metadata": {},
   "outputs": [
    {
     "data": {
      "text/plain": [
       "722359"
      ]
     },
     "execution_count": 59,
     "metadata": {},
     "output_type": "execute_result"
    }
   ],
   "source": [
    "es_client.count(index=index_name).get('count')"
   ]
  },
  {
   "cell_type": "code",
   "execution_count": 57,
   "metadata": {},
   "outputs": [],
   "source": [
    "# Function to create the bulk actions\n",
    "def generate_actions():\n",
    "    for doc in documents:\n",
    "        yield {\n",
    "            \"_index\": index_name,  # Replace with your index name\n",
    "            \"_source\": doc\n",
    "        }\n",
    "\n",
    "# Bulk indexing function with progress bar\n",
    "def bulk_index(batch_size=2000):\n",
    "    total_documents = len(documents)\n",
    "    progress_bar = tqdm(total=total_documents, desc=\"Indexing Progress\")\n",
    "    \n",
    "    for success, info in helpers.parallel_bulk(\n",
    "        es_client,\n",
    "        generate_actions(),\n",
    "        chunk_size=batch_size\n",
    "    ):\n",
    "        if not success:\n",
    "            print('A document failed:', info)\n",
    "        progress_bar.update(batch_size)\n",
    "    \n",
    "    progress_bar.close()"
   ]
  },
  {
   "cell_type": "code",
   "execution_count": null,
   "metadata": {},
   "outputs": [],
   "source": [
    "bulk_index()"
   ]
  },
  {
   "cell_type": "markdown",
   "metadata": {},
   "source": [
    "## RAG flow"
   ]
  },
  {
   "cell_type": "code",
   "execution_count": 8,
   "metadata": {},
   "outputs": [],
   "source": [
    "import os\n",
    "from dotenv import load_dotenv\n",
    "\n",
    "load_dotenv()\n",
    "HUGGINGFACE_TOKEN = os.getenv('HUGGINGFACE_TOKEN')"
   ]
  },
  {
   "cell_type": "code",
   "execution_count": 9,
   "metadata": {
    "vscode": {
     "languageId": "javascript"
    }
   },
   "outputs": [],
   "source": [
    "def elastic_search(query):\n",
    "\n",
    "    search_query = {\n",
    "        \"size\": 10,\n",
    "        \"query\": {\n",
    "            \"multi_match\": {\n",
    "                \"query\": query,\n",
    "                \"fields\": [\"title^3\", \"description^2\", \"overview^1.5\", \"genres\", \"keywords\"],\n",
    "                \"type\": \"best_fields\",\n",
    "                \"fuzziness\": \"AUTO\"\n",
    "            }\n",
    "        }\n",
    "    }\n",
    "\n",
    "    response = es_client.search(index=index_name, body=search_query)\n",
    "    \n",
    "    result_docs = [hit['_source'] for hit in response['hits']['hits']]\n",
    "    \n",
    "    return result_docs"
   ]
  },
  {
   "cell_type": "code",
   "execution_count": 10,
   "metadata": {},
   "outputs": [],
   "source": [
    "prompt_template = \"\"\"\n",
    "You're a movie assistant. Answer the QUESTION based on the CONTEXT from our movies data.\n",
    "Use only the facts from the CONTEXT when answering the QUESTION.\n",
    "\n",
    "QUESTION: {question}\n",
    "\n",
    "CONTEXT:\n",
    "{context}\n",
    "\"\"\".strip()\n",
    "\n",
    "\n",
    "entry_template = \"\"\"\n",
    "title: {title}\n",
    "genres: {genres}\n",
    "original_language: {original_language}\n",
    "overview: {overview}\n",
    "popularity: {popularity}\n",
    "production_companies: {production_companies} \n",
    "release_date: {release_date}\n",
    "budget: {budget}\n",
    "revenue: {revenue}\n",
    "runtime: {runtime}\n",
    "status: {status}\n",
    "tagline: {tagline}\n",
    "vote_average: {vote_average}\n",
    "vote_count: {vote_count}\n",
    "credits: {credits}\n",
    "keywords: {keywords}\n",
    "\"\"\".strip()\n",
    "\n",
    "def build_prompt(query, search_results):\n",
    "    context = \"\"\n",
    "    \n",
    "    for doc in search_results:\n",
    "        context = context + entry_template.format(**doc) + \"\\n\\n\"\n",
    "\n",
    "    prompt = prompt_template.format(question=query, context=context).strip()\n",
    "    return prompt"
   ]
  },
  {
   "cell_type": "code",
   "execution_count": 48,
   "metadata": {},
   "outputs": [],
   "source": [
    "from huggingface_hub import InferenceClient\n",
    "\n",
    "def llm(prompt, model='mistralai/Mixtral-8x7B-Instruct-v0.1'):\n",
    "    client = InferenceClient(\n",
    "        model,\n",
    "        token=HUGGINGFACE_TOKEN,\n",
    "    )\n",
    "\n",
    "    response = client.chat_completion(\n",
    "        messages=[{\"role\": \"user\", \"content\": prompt}],\n",
    "        max_tokens=500\n",
    "    )\n",
    "    \n",
    "    return response.choices[0].message.content"
   ]
  },
  {
   "cell_type": "code",
   "execution_count": 49,
   "metadata": {},
   "outputs": [],
   "source": [
    "def rag(query, model='mistralai/Mixtral-8x7B-Instruct-v0.1'):\n",
    "    search_results = elastic_search(query)\n",
    "    prompt = build_prompt(query, search_results)\n",
    "    answer = llm(prompt, model=model)\n",
    "    return answer"
   ]
  },
  {
   "cell_type": "code",
   "execution_count": 50,
   "metadata": {},
   "outputs": [
    {
     "name": "stdout",
     "output_type": "stream",
     "text": [
      " Based on the provided context, Julie Delpy and Ethan Hawke starred in \"Before Midnight\" and \"The Space in Between\". \"Before Midnight\" is not included in the context, but it is part of the trilogy discussed in \"The Space in Between\" where both actors are listed in the credits.\n"
     ]
    }
   ],
   "source": [
    "question = 'Julie Delpy and Ethan Hawke starred in which movies?'\n",
    "answer = rag(question)\n",
    "print(answer)"
   ]
  },
  {
   "cell_type": "code",
   "execution_count": null,
   "metadata": {},
   "outputs": [],
   "source": [
    "query = 'Julie Delpy and Ethan Hawke starred in which movies?'\n",
    "\n",
    "prompt = build_prompt(query, elastic_search(query))"
   ]
  },
  {
   "cell_type": "code",
   "execution_count": 37,
   "metadata": {},
   "outputs": [],
   "source": [
    "\n",
    "client = InferenceClient(\n",
    "        'mistralai/Mixtral-8x7B-Instruct-v0.1',\n",
    "        token=HUGGINGFACE_TOKEN,\n",
    "    )\n",
    "response = \"\"\n",
    "\n",
    "\n",
    "test  = client.chat_completion(\n",
    "        messages=[{\"role\": \"user\", \"content\": prompt}],\n",
    "        max_tokens=500\n",
    "        # stream=True,\n",
    "    )\n",
    "\n",
    "    \n",
    "        # response += message.choices[0].delta.content"
   ]
  },
  {
   "cell_type": "code",
   "execution_count": 41,
   "metadata": {},
   "outputs": [
    {
     "data": {
      "text/plain": [
       "' Based on the provided context, Julie Delpy and Ethan Hawke starred in \"Before Midnight\" and \"The Space in Between\". \"Before Midnight\" is not included in the context, but it is part of the trilogy discussed in \"The Space in Between\" where both actors are listed in the credits.'"
      ]
     },
     "execution_count": 41,
     "metadata": {},
     "output_type": "execute_result"
    }
   ],
   "source": [
    "test.choices[0].message.content"
   ]
  },
  {
   "cell_type": "code",
   "execution_count": 47,
   "metadata": {},
   "outputs": [
    {
     "data": {
      "text/plain": [
       "ChatCompletionOutputUsage(completion_tokens=68, prompt_tokens=2644, total_tokens=2712)"
      ]
     },
     "execution_count": 47,
     "metadata": {},
     "output_type": "execute_result"
    }
   ],
   "source": [
    "test.usage"
   ]
  }
 ],
 "metadata": {
  "kernelspec": {
   "display_name": "Movies_Assistant-0P3PgTCo",
   "language": "python",
   "name": "python3"
  },
  "language_info": {
   "codemirror_mode": {
    "name": "ipython",
    "version": 3
   },
   "file_extension": ".py",
   "mimetype": "text/x-python",
   "name": "python",
   "nbconvert_exporter": "python",
   "pygments_lexer": "ipython3",
   "version": "3.11.9"
  }
 },
 "nbformat": 4,
 "nbformat_minor": 2
}

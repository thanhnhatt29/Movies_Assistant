{
 "cells": [
  {
   "cell_type": "code",
   "execution_count": 16,
   "metadata": {},
   "outputs": [
    {
     "name": "stderr",
     "output_type": "stream",
     "text": [
      "'wget' is not recognized as an internal or external command,\n",
      "operable program or batch file.\n"
     ]
    }
   ],
   "source": [
    "# wget for Windows PowerShell\n",
    "!wget https://raw.githubusercontent.com/alexeygrigorev/minsearch/main/minsearch.py -OutFile minsearch.py \n"
   ]
  },
  {
   "cell_type": "code",
   "execution_count": 9,
   "metadata": {},
   "outputs": [],
   "source": [
    "import pandas\n",
    "from tqdm.auto import tqdm"
   ]
  },
  {
   "cell_type": "code",
   "execution_count": 10,
   "metadata": {},
   "outputs": [],
   "source": [
    "df = pandas.read_csv('../data/movies_filter.csv', keep_default_na=False, dtype= str)"
   ]
  },
  {
   "cell_type": "code",
   "execution_count": 11,
   "metadata": {},
   "outputs": [],
   "source": [
    "documents = df.to_dict(orient='records')"
   ]
  },
  {
   "cell_type": "code",
   "execution_count": 12,
   "metadata": {},
   "outputs": [],
   "source": [
    "import minsearch"
   ]
  },
  {
   "cell_type": "code",
   "execution_count": 13,
   "metadata": {},
   "outputs": [],
   "source": [
    "index = minsearch.Index(\n",
    "    text_fields=['title', 'genres', 'overview', 'popularity',\n",
    "       'production_companies', 'release_date', 'budget', 'revenue', \n",
    "       'runtime', 'tagline', 'vote_average', 'vote_count', 'credits',\n",
    "       'keywords'],\n",
    "    keyword_fields=['id', 'original_language','status']\n",
    ")"
   ]
  },
  {
   "cell_type": "code",
   "execution_count": 14,
   "metadata": {},
   "outputs": [
    {
     "data": {
      "text/plain": [
       "<minsearch.Index at 0x2952e258790>"
      ]
     },
     "execution_count": 14,
     "metadata": {},
     "output_type": "execute_result"
    }
   ],
   "source": [
    "index.fit(documents)"
   ]
  },
  {
   "cell_type": "code",
   "execution_count": 30,
   "metadata": {},
   "outputs": [],
   "source": [
    "def search(query):\n",
    "    boost = {}\n",
    "\n",
    "    results = index.search(\n",
    "        query=query,\n",
    "        filter_dict={},\n",
    "        boost_dict=boost,\n",
    "        num_results=10\n",
    "    )\n",
    "\n",
    "    return results"
   ]
  },
  {
   "cell_type": "code",
   "execution_count": 31,
   "metadata": {},
   "outputs": [],
   "source": [
    "prompt_template = \"\"\"\n",
    "You're a movie assistant. Answer the QUESTION based on the CONTEXT from our movies data.\n",
    "Use only the facts from the CONTEXT when answering the QUESTION.\n",
    "\n",
    "QUESTION: {question}\n",
    "\n",
    "CONTEXT:\n",
    "{context}\n",
    "\"\"\".strip()\n",
    "\n",
    "\n",
    "entry_template = \"\"\"\n",
    "id: {id}\n",
    "title: {title}\n",
    "genres: {genres}\n",
    "original_language: {original_language}\n",
    "overview: {overview}\n",
    "popularity: {popularity}\n",
    "production_companies: {production_companies} \n",
    "release_date: {release_date}\n",
    "budget: {budget}\n",
    "revenue: {revenue}\n",
    "runtime: {runtime}\n",
    "status: {status}\n",
    "tagline: {tagline}\n",
    "vote_average: {vote_average}\n",
    "vote_count: {vote_count}\n",
    "credits: {credits}\n",
    "keywords: {keywords}\n",
    "\"\"\".strip()\n",
    "\n",
    "def build_prompt(query, search_results):\n",
    "    context = \"\"\n",
    "    \n",
    "    for doc in search_results:\n",
    "        context = context + entry_template.format(**doc) + \"\\n\\n\"\n",
    "\n",
    "    prompt = prompt_template.format(question=query, context=context).strip()\n",
    "    return prompt"
   ]
  },
  {
   "cell_type": "code",
   "execution_count": 54,
   "metadata": {},
   "outputs": [],
   "source": [
    "# import os\n",
    "# HUGGINGFACE_TOKEN = os.getenv('HUGGINGFACE_TOKEN')"
   ]
  },
  {
   "cell_type": "code",
   "execution_count": 51,
   "metadata": {},
   "outputs": [],
   "source": [
    "from huggingface_hub import InferenceClient\n",
    "\n",
    "def llm(prompt, model='mistralai/Mixtral-8x7B-Instruct-v0.1'):\n",
    "    client = InferenceClient(\n",
    "        model,\n",
    "        token=HUGGINGFACE_TOKEN,\n",
    "    )\n",
    "\n",
    "    response = \"\"\n",
    "    \n",
    "    for message in client.chat_completion(\n",
    "        messages=[{\"role\": \"user\", \"content\": prompt}],\n",
    "        max_tokens=500,\n",
    "        stream=True,\n",
    "    ):\n",
    "         response += message.choices[0].delta.content\n",
    "    return response"
   ]
  },
  {
   "cell_type": "code",
   "execution_count": 52,
   "metadata": {},
   "outputs": [],
   "source": [
    "def rag(query, model='mistralai/Mixtral-8x7B-Instruct-v0.1'):\n",
    "    search_results = search(query)\n",
    "    prompt = build_prompt(query, search_results)\n",
    "    answer = llm(prompt, model=model)\n",
    "    return answer"
   ]
  },
  {
   "cell_type": "code",
   "execution_count": 55,
   "metadata": {},
   "outputs": [
    {
     "name": "stdout",
     "output_type": "stream",
     "text": [
      " Based on the context provided, I can see that there are several movies with the word \"Before\" in the title. However, the specific movies you're asking about are \"Before Sunrise\", \"Before Sunset\", and \"Before Midnight\". These movies are part of a trilogy directed by Richard Linklater and star Ethan Hawke and Julie Delpy. The films explore the relationship between two characters, Celine and Jesse, as they meet on a train and spend a day together in Vienna (Before Sunrise), reunite nine years later in Paris (Before Sunset), and take a trip to Greece with their families (Before Midnight).\n",
      "\n",
      "There are also behind-the-scenes documentaries for \"Before Sunrise\" and \"Before Sunset,\" which provide insight into the making of those films. None of the movies or documentaries are directly related to the data you provided for movies with the keyword \"before dawn\" or \"before\" in the title.\n"
     ]
    }
   ],
   "source": [
    "question = 'how do you know about before sunrise, before sunset, before midnight?'\n",
    "answer = rag(question)\n",
    "print(answer)"
   ]
  },
  {
   "cell_type": "markdown",
   "metadata": {},
   "source": [
    "model available in HF:\n",
    "- mistralai/Mistral-Nemo-Instruct-2407\n",
    "- google/gemma-2-2b-it\n",
    "- meta-llama/Meta-Llama-3-8B-Instruct\n",
    "- mistralai/Mistral-7B-Instruct-v0.3\n",
    "- mistralai/Mixtral-8x7B-Instruct-v0.1\n"
   ]
  },
  {
   "cell_type": "markdown",
   "metadata": {},
   "source": []
  }
 ],
 "metadata": {
  "kernelspec": {
   "display_name": "Python 3",
   "language": "python",
   "name": "python3"
  },
  "language_info": {
   "codemirror_mode": {
    "name": "ipython",
    "version": 3
   },
   "file_extension": ".py",
   "mimetype": "text/x-python",
   "name": "python",
   "nbconvert_exporter": "python",
   "pygments_lexer": "ipython3",
   "version": "3.11.9"
  }
 },
 "nbformat": 4,
 "nbformat_minor": 2
}
